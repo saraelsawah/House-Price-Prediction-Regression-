{
 "cells": [
  {
   "cell_type": "markdown",
   "id": "86d3e98b",
   "metadata": {},
   "source": [
    "# 🏠 House Price Prediction\n",
    "This notebook demonstrates how to build a regression model to predict house prices based on features like area, bedrooms, and bathrooms."
   ]
  },
  {
   "cell_type": "code",
   "execution_count": null,
   "id": "7ed982a5",
   "metadata": {},
   "outputs": [],
   "source": [
    "\n",
    "import pandas as pd\n",
    "from sklearn.model_selection import train_test_split\n",
    "from sklearn.linear_model import LinearRegression\n",
    "from sklearn.metrics import mean_squared_error, r2_score\n"
   ]
  },
  {
   "cell_type": "code",
   "execution_count": null,
   "id": "8168e187",
   "metadata": {},
   "outputs": [],
   "source": [
    "\n",
    "# Example dataset (replace with a larger dataset if available)\n",
    "data = {\n",
    "    'Area': [1400, 1600, 1700, 1875, 1100],\n",
    "    'Bedrooms': [3, 3, 3, 4, 2],\n",
    "    'Bathrooms': [2, 2, 2, 3, 1],\n",
    "    'Price': [245000, 312000, 279000, 308000, 199000]\n",
    "}\n",
    "\n",
    "df = pd.DataFrame(data)\n",
    "df\n"
   ]
  },
  {
   "cell_type": "code",
   "execution_count": null,
   "id": "93a159e4",
   "metadata": {},
   "outputs": [],
   "source": [
    "\n",
    "# Features (X) and Target (y)\n",
    "X = df[['Area', 'Bedrooms', 'Bathrooms']]\n",
    "y = df['Price']\n",
    "\n",
    "# Split dataset\n",
    "X_train, X_test, y_train, y_test = train_test_split(X, y, test_size=0.2, random_state=42)\n"
   ]
  },
  {
   "cell_type": "code",
   "execution_count": null,
   "id": "f8f60db1",
   "metadata": {},
   "outputs": [],
   "source": [
    "\n",
    "# Train Linear Regression model\n",
    "model = LinearRegression()\n",
    "model.fit(X_train, y_train)\n"
   ]
  },
  {
   "cell_type": "code",
   "execution_count": null,
   "id": "7679ef10",
   "metadata": {},
   "outputs": [],
   "source": [
    "\n",
    "# Make predictions\n",
    "y_pred = model.predict(X_test)\n",
    "\n",
    "# Results\n",
    "print(\"Predictions:\", y_pred)\n",
    "print(\"Mean Squared Error (MSE):\", mean_squared_error(y_test, y_pred))\n",
    "print(\"R² Score:\", r2_score(y_test, y_pred))\n"
   ]
  }
 ],
 "metadata": {},
 "nbformat": 4,
 "nbformat_minor": 5
}